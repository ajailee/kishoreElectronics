{
 "cells": [
  {
   "cell_type": "code",
   "execution_count": 13,
   "metadata": {},
   "outputs": [],
   "source": [
    "import pandas as pd;\n",
    "from datetime import date;\n",
    "path = \"C:\\\\Users\\\\sathishray\\\\Downloads\\\\KISHORE EL (Autosaved) (1).xlsx\""
   ]
  },
  {
   "cell_type": "code",
   "execution_count": 14,
   "metadata": {},
   "outputs": [],
   "source": [
    "def type1(newdf):\n",
    "    newdf['Item name*'] = singledf['DESCRIPTION']\n",
    "    newdf['Item code'] = singledf['CODE']\n",
    "    newdf['HSN']= singledf['HSN/SAC']\n",
    "    newdf['Sale price'] = singledf['FINAL PRICE']\n",
    "    newdf['Purchase price'] = singledf['Purchase price']\n",
    "    newdf['Discount Type'] = 'Discount %'\n",
    "    newdf['Sale Discount'] = (singledf['Discount (%)'] * 100 ).astype(int)\n",
    "    newdf['Opening stock quantity'] = 10\n",
    "    newdf['Minimum stock quantity'] = 5\n",
    "    newdf['Item Location'] = 'Store 1'\n",
    "    newdf['Tax Rate'] ='GST@'+(singledf['TAX(%)'] * 100 ).astype(int).astype(str)+'%'\n",
    "    newdf['Inclusive Of Tax'] ='Inclusive'\n",
    "    newdf['Base Unit (x)'] = ''\n",
    "    newdf['Secondary Unit (y)'] = ''\n",
    "    newdf['Conversion Rate (n) (x = ny)'] = ''"
   ]
  },
  {
   "cell_type": "code",
   "execution_count": 15,
   "metadata": {},
   "outputs": [],
   "source": [
    "mainxl = pd.read_excel(path, None)\n",
    "for name in mainxl.keys():\n",
    "   singledf = pd.read_excel(path,name)\n",
    "   singledf = pd.read_excel(path,name)\n",
    "   present = set(singledf.columns.tolist())\n",
    "   required = set(['DESCRIPTION','CODE','HSN/SAC','FINAL PRICE','Purchase price','Discount (%)','TAX(%)'])\n",
    "   check=True\n",
    "\n",
    "   for r in required:\n",
    "      if r not in present:\n",
    "        check=False\n",
    "        break\n",
    "\n",
    "   newdf = pd.DataFrame()\n",
    "   if check:\n",
    "      type1(newdf)\n",
    "      time = date.today()\n",
    "      newdf.to_excel('C:\\\\Users\\\\sathishray\\\\Desktop\\\\STOCK\\\\SINGLE\\\\VYAPAR\\\\'+name+time.strftime(\"%m-%d-%Y\")+'.xlsx',index=False)\n",
    "   \n",
    "   "
   ]
  }
 ],
 "metadata": {
  "interpreter": {
   "hash": "b1708ca8ae66241c7f13db77208909718ec84d74f91d92bdf8d9a224d1bda61f"
  },
  "kernelspec": {
   "display_name": "Python 3.9.7 64-bit",
   "language": "python",
   "name": "python3"
  },
  "language_info": {
   "codemirror_mode": {
    "name": "ipython",
    "version": 3
   },
   "file_extension": ".py",
   "mimetype": "text/x-python",
   "name": "python",
   "nbconvert_exporter": "python",
   "pygments_lexer": "ipython3",
   "version": "3.9.7"
  },
  "orig_nbformat": 4
 },
 "nbformat": 4,
 "nbformat_minor": 2
}
